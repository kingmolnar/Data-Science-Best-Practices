{
 "cells": [
  {
   "cell_type": "markdown",
   "metadata": {},
   "source": [
    "# Comparison SQL - Pandas - Spark"
   ]
  },
  {
   "cell_type": "code",
   "execution_count": 1,
   "metadata": {},
   "outputs": [],
   "source": [
    "import sys\n",
    "import os\n",
    "# SPARK_HOME='/usr/local/Cellar/apache-spark/2.4.4'\n",
    "# os.environ['SPARK_HOME'] = SPARK_HOME\n",
    "# if SPARK_HOME not in sys.path:\n",
    "#     sys.path.insert(0, SPARK_HOME)\n",
    "import findspark\n",
    "import pyspark\n",
    "import numpy as np\n",
    "import pandas as pd\n",
    "import pyspark.sql.functions as F"
   ]
  },
  {
   "cell_type": "code",
   "execution_count": 2,
   "metadata": {},
   "outputs": [],
   "source": [
    "from pyspark.sql import SparkSession\n",
    "spark = SparkSession.builder \\\n",
    "    .master('local[2]') \\\n",
    "    .appName(\"SimpleApp\") \\\n",
    "    .getOrCreate()"
   ]
  },
  {
   "cell_type": "code",
   "execution_count": 8,
   "metadata": {},
   "outputs": [],
   "source": []
  },
  {
   "cell_type": "markdown",
   "metadata": {},
   "source": [
    "# Load Data"
   ]
  },
  {
   "cell_type": "markdown",
   "metadata": {},
   "source": [
    "## Load Spark Data"
   ]
  },
  {
   "cell_type": "code",
   "execution_count": 47,
   "metadata": {},
   "outputs": [],
   "source": [
    "# for f in map(str.strip, os.popen('ls ../data/*.csv | grep -v 100_').readlines()):\n",
    "#     nam = os.path.basename(f).split('.')[0]\n",
    "#     print(f\"\"\"\n",
    "# print(\"{nam}_pdf [{f}]\")\n",
    "# {nam}_df = spark.read.csv('{f}', inferSchema=True, header=True)\n",
    "# {nam}_df.registerTempTable('{nam}')\n",
    "# {nam}_df.printSchema()\n",
    "#         \"\"\")"
   ]
  },
  {
   "cell_type": "code",
   "execution_count": 48,
   "metadata": {},
   "outputs": [
    {
     "name": "stdout",
     "output_type": "stream",
     "text": [
      "customers_pdf [../data/customers.csv]\n",
      "root\n",
      " |-- customerNumber: integer (nullable = true)\n",
      " |-- customerName: string (nullable = true)\n",
      " |-- contactLastName: string (nullable = true)\n",
      " |-- contactFirstName: string (nullable = true)\n",
      " |-- phone: string (nullable = true)\n",
      " |-- addressLine1: string (nullable = true)\n",
      " |-- addressLine2: string (nullable = true)\n",
      " |-- city: string (nullable = true)\n",
      " |-- state: string (nullable = true)\n",
      " |-- postalCode: string (nullable = true)\n",
      " |-- country: string (nullable = true)\n",
      " |-- salesRepEmployeeNumber: double (nullable = true)\n",
      " |-- creditLimit: double (nullable = true)\n",
      "\n",
      "employees_pdf [../data/employees.csv]\n",
      "root\n",
      " |-- employeeNumber: integer (nullable = true)\n",
      " |-- lastName: string (nullable = true)\n",
      " |-- firstName: string (nullable = true)\n",
      " |-- extension: string (nullable = true)\n",
      " |-- email: string (nullable = true)\n",
      " |-- officeCode: integer (nullable = true)\n",
      " |-- reportsTo: double (nullable = true)\n",
      " |-- jobTitle: string (nullable = true)\n",
      "\n",
      "offices_pdf [../data/offices.csv]\n",
      "root\n",
      " |-- officeCode: integer (nullable = true)\n",
      " |-- city: string (nullable = true)\n",
      " |-- phone: string (nullable = true)\n",
      " |-- addressLine1: string (nullable = true)\n",
      " |-- addressLine2: string (nullable = true)\n",
      " |-- state: string (nullable = true)\n",
      " |-- country: string (nullable = true)\n",
      " |-- postalCode: string (nullable = true)\n",
      " |-- territory: string (nullable = true)\n",
      "\n",
      "orderdetails_pdf [../data/orderdetails.csv]\n",
      "root\n",
      " |-- orderNumber: integer (nullable = true)\n",
      " |-- productCode: string (nullable = true)\n",
      " |-- quantityOrdered: integer (nullable = true)\n",
      " |-- priceEach: double (nullable = true)\n",
      " |-- orderLineNumber: integer (nullable = true)\n",
      "\n",
      "orders_pdf [../data/orders.csv]\n",
      "root\n",
      " |-- orderNumber: integer (nullable = true)\n",
      " |-- orderDate: string (nullable = true)\n",
      " |-- requiredDate: string (nullable = true)\n",
      " |-- shippedDate: string (nullable = true)\n",
      " |-- status: string (nullable = true)\n",
      " |-- comments: string (nullable = true)\n",
      " |-- customerNumber: integer (nullable = true)\n",
      "\n",
      "payments_pdf [../data/payments.csv]\n",
      "root\n",
      " |-- customerNumber: integer (nullable = true)\n",
      " |-- checkNumber: string (nullable = true)\n",
      " |-- paymentDate: string (nullable = true)\n",
      " |-- amount: double (nullable = true)\n",
      "\n",
      "productlines_pdf [../data/productlines.csv]\n",
      "root\n",
      " |-- productLine: string (nullable = true)\n",
      " |-- textDescription: string (nullable = true)\n",
      " |-- htmlDescription: string (nullable = true)\n",
      " |-- image: string (nullable = true)\n",
      "\n",
      "products_pdf [../data/products.csv]\n",
      "root\n",
      " |-- productCode: string (nullable = true)\n",
      " |-- productName: string (nullable = true)\n",
      " |-- productLine: string (nullable = true)\n",
      " |-- productScale: string (nullable = true)\n",
      " |-- productVendor: string (nullable = true)\n",
      " |-- productDescription: string (nullable = true)\n",
      " |-- quantityInStock: string (nullable = true)\n",
      " |-- buyPrice: string (nullable = true)\n",
      " |-- MSRP: string (nullable = true)\n",
      "\n"
     ]
    }
   ],
   "source": [
    "print(\"customers_pdf [../data/customers.csv]\")\n",
    "customers_df = spark.read.csv('../data/customers.csv', inferSchema=True, header=True)\n",
    "customers_df.registerTempTable('customers')\n",
    "customers_df.printSchema()\n",
    "        \n",
    "\n",
    "print(\"employees_pdf [../data/employees.csv]\")\n",
    "employees_df = spark.read.csv('../data/employees.csv', inferSchema=True, header=True)\n",
    "employees_df.registerTempTable('employees')\n",
    "employees_df.printSchema()\n",
    "        \n",
    "\n",
    "print(\"offices_pdf [../data/offices.csv]\")\n",
    "offices_df = spark.read.csv('../data/offices.csv', inferSchema=True, header=True)\n",
    "offices_df.registerTempTable('offices')\n",
    "offices_df.printSchema()\n",
    "        \n",
    "\n",
    "print(\"orderdetails_pdf [../data/orderdetails.csv]\")\n",
    "orderdetails_df = spark.read.csv('../data/orderdetails.csv', inferSchema=True, header=True)\n",
    "orderdetails_df.registerTempTable('orderdetails')\n",
    "orderdetails_df.printSchema()\n",
    "        \n",
    "\n",
    "print(\"orders_pdf [../data/orders.csv]\")\n",
    "orders_df = spark.read.csv('../data/orders.csv', inferSchema=True, header=True)\n",
    "orders_df.registerTempTable('orders')\n",
    "orders_df.printSchema()\n",
    "        \n",
    "\n",
    "print(\"payments_pdf [../data/payments.csv]\")\n",
    "payments_df = spark.read.csv('../data/payments.csv', inferSchema=True, header=True)\n",
    "payments_df.registerTempTable('payments')\n",
    "payments_df.printSchema()\n",
    "        \n",
    "\n",
    "print(\"productlines_pdf [../data/productlines.csv]\")\n",
    "productlines_df = spark.read.csv('../data/productlines.csv', inferSchema=True, header=True)\n",
    "productlines_df.registerTempTable('productlines')\n",
    "productlines_df.printSchema()\n",
    "        \n",
    "\n",
    "print(\"products_pdf [../data/products.csv]\")\n",
    "products_df = spark.read.csv('../data/products.csv', inferSchema=True, header=True)\n",
    "products_df.registerTempTable('products')\n",
    "products_df.printSchema()"
   ]
  },
  {
   "cell_type": "markdown",
   "metadata": {},
   "source": [
    "## Load Pandas Tables"
   ]
  },
  {
   "cell_type": "code",
   "execution_count": 39,
   "metadata": {},
   "outputs": [],
   "source": [
    "# for f in map(str.strip, os.popen('ls ../data/*.csv | grep -v 100_').readlines()):\n",
    "#     nam = os.path.basename(f).split('.')[0]\n",
    "#     print(f\"\"\"\n",
    "# print(\"{nam}_pdf [{f}]\")\n",
    "# {nam}_pdf = pd.read_csv('{f}')\n",
    "# display({nam}_pdf.dtypes)\n",
    "# print()\"\"\")"
   ]
  },
  {
   "cell_type": "code",
   "execution_count": 76,
   "metadata": {},
   "outputs": [
    {
     "name": "stdout",
     "output_type": "stream",
     "text": [
      "customers_pdf [../data/customers.csv]\n"
     ]
    },
    {
     "data": {
      "text/plain": [
       "customerNumber              int64\n",
       "customerName               object\n",
       "contactLastName            object\n",
       "contactFirstName           object\n",
       "phone                      object\n",
       "addressLine1               object\n",
       "addressLine2               object\n",
       "city                       object\n",
       "state                      object\n",
       "postalCode                 object\n",
       "country                    object\n",
       "salesRepEmployeeNumber    float64\n",
       "creditLimit               float64\n",
       "dtype: object"
      ]
     },
     "metadata": {},
     "output_type": "display_data"
    },
    {
     "name": "stdout",
     "output_type": "stream",
     "text": [
      "\n",
      "employees_pdf [../data/employees.csv]\n"
     ]
    },
    {
     "data": {
      "text/plain": [
       "employeeNumber      int64\n",
       "lastName           object\n",
       "firstName          object\n",
       "extension          object\n",
       "email              object\n",
       "officeCode          int64\n",
       "reportsTo         float64\n",
       "jobTitle           object\n",
       "dtype: object"
      ]
     },
     "metadata": {},
     "output_type": "display_data"
    },
    {
     "name": "stdout",
     "output_type": "stream",
     "text": [
      "\n",
      "offices_pdf [../data/offices.csv]\n"
     ]
    },
    {
     "data": {
      "text/plain": [
       "officeCode       int64\n",
       "city            object\n",
       "phone           object\n",
       "addressLine1    object\n",
       "addressLine2    object\n",
       "state           object\n",
       "country         object\n",
       "postalCode      object\n",
       "territory       object\n",
       "dtype: object"
      ]
     },
     "metadata": {},
     "output_type": "display_data"
    },
    {
     "name": "stdout",
     "output_type": "stream",
     "text": [
      "\n",
      "orderdetails_pdf [../data/orderdetails.csv]\n"
     ]
    },
    {
     "data": {
      "text/plain": [
       "orderNumber          int64\n",
       "productCode         object\n",
       "quantityOrdered      int64\n",
       "priceEach          float64\n",
       "orderLineNumber      int64\n",
       "dtype: object"
      ]
     },
     "metadata": {},
     "output_type": "display_data"
    },
    {
     "name": "stdout",
     "output_type": "stream",
     "text": [
      "\n",
      "orders_pdf [../data/orders.csv]\n"
     ]
    },
    {
     "data": {
      "text/plain": [
       "orderNumber        int64\n",
       "orderDate         object\n",
       "requiredDate      object\n",
       "shippedDate       object\n",
       "status            object\n",
       "comments          object\n",
       "customerNumber     int64\n",
       "dtype: object"
      ]
     },
     "metadata": {},
     "output_type": "display_data"
    },
    {
     "name": "stdout",
     "output_type": "stream",
     "text": [
      "\n",
      "payments_pdf [../data/payments.csv]\n"
     ]
    },
    {
     "data": {
      "text/plain": [
       "customerNumber      int64\n",
       "checkNumber        object\n",
       "paymentDate        object\n",
       "amount            float64\n",
       "dtype: object"
      ]
     },
     "metadata": {},
     "output_type": "display_data"
    },
    {
     "name": "stdout",
     "output_type": "stream",
     "text": [
      "\n",
      "productlines_pdf [../data/productlines.csv]\n"
     ]
    },
    {
     "data": {
      "text/plain": [
       "productLine         object\n",
       "textDescription     object\n",
       "htmlDescription    float64\n",
       "image              float64\n",
       "dtype: object"
      ]
     },
     "metadata": {},
     "output_type": "display_data"
    },
    {
     "name": "stdout",
     "output_type": "stream",
     "text": [
      "\n",
      "products_pdf [../data/products.csv]\n"
     ]
    },
    {
     "data": {
      "text/plain": [
       "productCode            object\n",
       "productName            object\n",
       "productLine            object\n",
       "productScale           object\n",
       "productVendor          object\n",
       "productDescription     object\n",
       "quantityInStock         int64\n",
       "buyPrice              float64\n",
       "MSRP                  float64\n",
       "dtype: object"
      ]
     },
     "metadata": {},
     "output_type": "display_data"
    },
    {
     "name": "stdout",
     "output_type": "stream",
     "text": [
      "\n"
     ]
    }
   ],
   "source": [
    "print(\"customers_pdf [../data/customers.csv]\")\n",
    "customers_pdf = pd.read_csv('../data/customers.csv')\n",
    "display(customers_pdf.dtypes)\n",
    "print()\n",
    "\n",
    "print(\"employees_pdf [../data/employees.csv]\")\n",
    "employees_pdf = pd.read_csv('../data/employees.csv')\n",
    "display(employees_pdf.dtypes)\n",
    "print()\n",
    "\n",
    "print(\"offices_pdf [../data/offices.csv]\")\n",
    "offices_pdf = pd.read_csv('../data/offices.csv')\n",
    "display(offices_pdf.dtypes)\n",
    "print()\n",
    "\n",
    "print(\"orderdetails_pdf [../data/orderdetails.csv]\")\n",
    "orderdetails_pdf = pd.read_csv('../data/orderdetails.csv')\n",
    "display(orderdetails_pdf.dtypes)\n",
    "print()\n",
    "\n",
    "print(\"orders_pdf [../data/orders.csv]\")\n",
    "orders_pdf = pd.read_csv('../data/orders.csv')\n",
    "display(orders_pdf.dtypes)\n",
    "print()\n",
    "\n",
    "print(\"payments_pdf [../data/payments.csv]\")\n",
    "payments_pdf = pd.read_csv('../data/payments.csv')\n",
    "display(payments_pdf.dtypes)\n",
    "print()\n",
    "\n",
    "print(\"productlines_pdf [../data/productlines.csv]\")\n",
    "productlines_pdf = pd.read_csv('../data/productlines.csv')\n",
    "display(productlines_pdf.dtypes)\n",
    "print()\n",
    "\n",
    "print(\"products_pdf [../data/products.csv]\")\n",
    "products_pdf = pd.read_csv('../data/products.csv')\n",
    "display(products_pdf.dtypes)\n",
    "print()"
   ]
  },
  {
   "cell_type": "code",
   "execution_count": null,
   "metadata": {},
   "outputs": [],
   "source": []
  },
  {
   "cell_type": "markdown",
   "metadata": {},
   "source": [
    "# Pandas map() and apply()\n",
    "\n",
    "The methods `map()` and `apply()` can be used for row and column operations:\n",
    "\n",
    "**map(self, arg, na_action=None) -> 'Series'**\n",
    "\n",
    "Map values of Series according to input correspondence.\n",
    "    \n",
    "    Used for substituting each value in a Series with another value,\n",
    "    that may be derived from a function, a ``dict`` or\n",
    "    a :class:`Series`.\n",
    "    \n",
    "    Parameters\n",
    "    ----------\n",
    "    arg : function, collections.abc.Mapping subclass or Series\n",
    "        Mapping correspondence.\n",
    "    na_action : {None, 'ignore'}, default None\n",
    "        If 'ignore', propagate NaN values, without passing them to the\n",
    "        mapping correspondence.\n",
    "    \n",
    "    Returns\n",
    "    -------\n",
    "    Series\n",
    "        Same index as caller.\n",
    "        \n",
    "\n",
    "**apply(self, func, convert_dtype=True, args=(), **kwds)**\n",
    "\n",
    "Invoke function on values of Series.\n",
    "    \n",
    "    Can be ufunc (a NumPy function that applies to the entire Series)\n",
    "    or a Python function that only works on single values.\n",
    "    \n",
    "    Parameters\n",
    "    ----------\n",
    "    func : function\n",
    "        Python function or NumPy ufunc to apply.\n",
    "    convert_dtype : bool, default True\n",
    "        Try to find better dtype for elementwise function results. If\n",
    "        False, leave as dtype=object.\n",
    "    args : tuple\n",
    "        Positional arguments passed to func after the series value.\n",
    "    **kwds\n",
    "        Additional keyword arguments passed to func.\n",
    "    \n",
    "    Returns\n",
    "    -------\n",
    "    Series or DataFrame\n",
    "        If func returns a Series object the result will be a DataFrame."
   ]
  },
  {
   "cell_type": "code",
   "execution_count": 85,
   "metadata": {},
   "outputs": [
    {
     "data": {
      "text/html": [
       "<div>\n",
       "<style scoped>\n",
       "    .dataframe tbody tr th:only-of-type {\n",
       "        vertical-align: middle;\n",
       "    }\n",
       "\n",
       "    .dataframe tbody tr th {\n",
       "        vertical-align: top;\n",
       "    }\n",
       "\n",
       "    .dataframe thead th {\n",
       "        text-align: right;\n",
       "    }\n",
       "</style>\n",
       "<table border=\"1\" class=\"dataframe\">\n",
       "  <thead>\n",
       "    <tr style=\"text-align: right;\">\n",
       "      <th></th>\n",
       "      <th>orderNumber</th>\n",
       "      <th>orderDate</th>\n",
       "      <th>requiredDate</th>\n",
       "      <th>shippedDate</th>\n",
       "      <th>status</th>\n",
       "      <th>comments</th>\n",
       "      <th>customerNumber</th>\n",
       "    </tr>\n",
       "  </thead>\n",
       "  <tbody>\n",
       "    <tr>\n",
       "      <th>0</th>\n",
       "      <td>10100</td>\n",
       "      <td>2003-01-06</td>\n",
       "      <td>2003-01-13</td>\n",
       "      <td>2003-01-10</td>\n",
       "      <td>Shipped</td>\n",
       "      <td>NaN</td>\n",
       "      <td>363</td>\n",
       "    </tr>\n",
       "    <tr>\n",
       "      <th>1</th>\n",
       "      <td>10101</td>\n",
       "      <td>2003-01-09</td>\n",
       "      <td>2003-01-18</td>\n",
       "      <td>2003-01-11</td>\n",
       "      <td>Shipped</td>\n",
       "      <td>Check on availability.</td>\n",
       "      <td>128</td>\n",
       "    </tr>\n",
       "    <tr>\n",
       "      <th>2</th>\n",
       "      <td>10102</td>\n",
       "      <td>2003-01-10</td>\n",
       "      <td>2003-01-18</td>\n",
       "      <td>2003-01-14</td>\n",
       "      <td>Shipped</td>\n",
       "      <td>NaN</td>\n",
       "      <td>181</td>\n",
       "    </tr>\n",
       "    <tr>\n",
       "      <th>3</th>\n",
       "      <td>10103</td>\n",
       "      <td>2003-01-29</td>\n",
       "      <td>2003-02-07</td>\n",
       "      <td>2003-02-02</td>\n",
       "      <td>Shipped</td>\n",
       "      <td>NaN</td>\n",
       "      <td>121</td>\n",
       "    </tr>\n",
       "    <tr>\n",
       "      <th>4</th>\n",
       "      <td>10104</td>\n",
       "      <td>2003-01-31</td>\n",
       "      <td>2003-02-09</td>\n",
       "      <td>2003-02-01</td>\n",
       "      <td>Shipped</td>\n",
       "      <td>NaN</td>\n",
       "      <td>141</td>\n",
       "    </tr>\n",
       "  </tbody>\n",
       "</table>\n",
       "</div>"
      ],
      "text/plain": [
       "   orderNumber   orderDate requiredDate shippedDate   status  \\\n",
       "0        10100  2003-01-06   2003-01-13  2003-01-10  Shipped   \n",
       "1        10101  2003-01-09   2003-01-18  2003-01-11  Shipped   \n",
       "2        10102  2003-01-10   2003-01-18  2003-01-14  Shipped   \n",
       "3        10103  2003-01-29   2003-02-07  2003-02-02  Shipped   \n",
       "4        10104  2003-01-31   2003-02-09  2003-02-01  Shipped   \n",
       "\n",
       "                 comments  customerNumber  \n",
       "0                     NaN             363  \n",
       "1  Check on availability.             128  \n",
       "2                     NaN             181  \n",
       "3                     NaN             121  \n",
       "4                     NaN             141  "
      ]
     },
     "execution_count": 85,
     "metadata": {},
     "output_type": "execute_result"
    }
   ],
   "source": [
    "orders_pdf.head()"
   ]
  },
  {
   "cell_type": "markdown",
   "metadata": {},
   "source": [
    "## Example: convert columns"
   ]
  },
  {
   "cell_type": "code",
   "execution_count": 90,
   "metadata": {},
   "outputs": [
    {
     "name": "stdout",
     "output_type": "stream",
     "text": [
      "orderDate\n",
      "requiredDate\n",
      "shippedDate\n"
     ]
    },
    {
     "data": {
      "text/plain": [
       "orderNumber                int64\n",
       "orderDate         datetime64[ns]\n",
       "requiredDate      datetime64[ns]\n",
       "shippedDate       datetime64[ns]\n",
       "status                    object\n",
       "comments                  object\n",
       "customerNumber             int64\n",
       "dtype: object"
      ]
     },
     "metadata": {},
     "output_type": "display_data"
    }
   ],
   "source": [
    "import datetime\n",
    "\n",
    "for col in filter(lambda s: s.endswith('Date'), orders_pdf.columns):\n",
    "    print(col)\n",
    "    orders_pdf[col] = orders_pdf[col].map(lambda s: datetime.datetime.strptime(s, '%Y-%m-%d'), na_action='ignore')\n",
    "    \n",
    "display(orders_pdf.dtypes)"
   ]
  },
  {
   "cell_type": "markdown",
   "metadata": {},
   "source": [
    "help(pd.Series.apply)"
   ]
  },
  {
   "cell_type": "code",
   "execution_count": null,
   "metadata": {},
   "outputs": [],
   "source": []
  },
  {
   "cell_type": "code",
   "execution_count": null,
   "metadata": {},
   "outputs": [],
   "source": []
  },
  {
   "cell_type": "code",
   "execution_count": null,
   "metadata": {},
   "outputs": [],
   "source": []
  },
  {
   "cell_type": "markdown",
   "metadata": {},
   "source": [
    "# Map-Reduce & Group By\n",
    "![](map-reduce.png)"
   ]
  },
  {
   "cell_type": "code",
   "execution_count": 68,
   "metadata": {},
   "outputs": [
    {
     "name": "stdout",
     "output_type": "stream",
     "text": [
      "Overwriting three_by_three.csv\n"
     ]
    }
   ],
   "source": [
    "%%writefile three_by_three.csv\n",
    "text\n",
    "Deer Bear River\n",
    "Car Car River\n",
    "Deer Car Bear"
   ]
  },
  {
   "cell_type": "markdown",
   "metadata": {},
   "source": [
    "## Python package `functools`"
   ]
  },
  {
   "cell_type": "code",
   "execution_count": 52,
   "metadata": {},
   "outputs": [],
   "source": [
    "# https://www.geeksforgeeks.org/reduce-in-python/\n",
    "from functools import reduce"
   ]
  },
  {
   "cell_type": "code",
   "execution_count": 69,
   "metadata": {},
   "outputs": [
    {
     "data": {
      "text/html": [
       "<div>\n",
       "<style scoped>\n",
       "    .dataframe tbody tr th:only-of-type {\n",
       "        vertical-align: middle;\n",
       "    }\n",
       "\n",
       "    .dataframe tbody tr th {\n",
       "        vertical-align: top;\n",
       "    }\n",
       "\n",
       "    .dataframe thead th {\n",
       "        text-align: right;\n",
       "    }\n",
       "</style>\n",
       "<table border=\"1\" class=\"dataframe\">\n",
       "  <thead>\n",
       "    <tr style=\"text-align: right;\">\n",
       "      <th></th>\n",
       "      <th>n</th>\n",
       "    </tr>\n",
       "    <tr>\n",
       "      <th>word</th>\n",
       "      <th></th>\n",
       "    </tr>\n",
       "  </thead>\n",
       "  <tbody>\n",
       "    <tr>\n",
       "      <th>Bear</th>\n",
       "      <td>2</td>\n",
       "    </tr>\n",
       "    <tr>\n",
       "      <th>Car</th>\n",
       "      <td>3</td>\n",
       "    </tr>\n",
       "    <tr>\n",
       "      <th>Deer</th>\n",
       "      <td>2</td>\n",
       "    </tr>\n",
       "    <tr>\n",
       "      <th>River</th>\n",
       "      <td>2</td>\n",
       "    </tr>\n",
       "  </tbody>\n",
       "</table>\n",
       "</div>"
      ],
      "text/plain": [
       "       n\n",
       "word    \n",
       "Bear   2\n",
       "Car    3\n",
       "Deer   2\n",
       "River  2"
      ]
     },
     "execution_count": 69,
     "metadata": {},
     "output_type": "execute_result"
    }
   ],
   "source": [
    "pdf = pd.read_csv('three_by_three.csv')\n",
    "\n",
    "pdf2 = pd.DataFrame({'word': reduce(lambda a, b: a + b, pdf.text.str.split())})\n",
    "pdf2['n'] = 1\n",
    "\n",
    "# display(pdf2)\n",
    "pdf2.groupby('word').agg({'n': 'sum'})"
   ]
  },
  {
   "cell_type": "code",
   "execution_count": null,
   "metadata": {},
   "outputs": [],
   "source": []
  },
  {
   "cell_type": "markdown",
   "metadata": {},
   "source": [
    "## Spark"
   ]
  },
  {
   "cell_type": "code",
   "execution_count": 32,
   "metadata": {},
   "outputs": [
    {
     "name": "stdout",
     "output_type": "stream",
     "text": [
      "root\n",
      " |-- text: string (nullable = true)\n",
      "\n"
     ]
    }
   ],
   "source": [
    "df = spark.read.csv('three_by_three.csv', header=True)\n",
    "df.printSchema()"
   ]
  },
  {
   "cell_type": "code",
   "execution_count": 40,
   "metadata": {},
   "outputs": [
    {
     "name": "stdout",
     "output_type": "stream",
     "text": [
      "+-----+---+\n",
      "| word|  n|\n",
      "+-----+---+\n",
      "| Bear|  2|\n",
      "|  Car|  3|\n",
      "| Deer|  2|\n",
      "|River|  2|\n",
      "+-----+---+\n",
      "\n"
     ]
    }
   ],
   "source": [
    "df.select(F.explode(F.split('text', r'\\s')).alias('word')) \\\n",
    "    .groupBy('word').agg(F.count('word').alias('n')) \\\n",
    "    .show()"
   ]
  },
  {
   "cell_type": "markdown",
   "metadata": {},
   "source": [
    "## SQL"
   ]
  },
  {
   "cell_type": "code",
   "execution_count": 41,
   "metadata": {},
   "outputs": [],
   "source": [
    "df.registerTempTable('threebythree')"
   ]
  },
  {
   "cell_type": "code",
   "execution_count": 46,
   "metadata": {},
   "outputs": [
    {
     "name": "stdout",
     "output_type": "stream",
     "text": [
      "+-----+---+\n",
      "| word|  n|\n",
      "+-----+---+\n",
      "| Bear|  2|\n",
      "|  Car|  3|\n",
      "| Deer|  2|\n",
      "|River|  2|\n",
      "+-----+---+\n",
      "\n"
     ]
    }
   ],
   "source": [
    "q = \"\"\"\n",
    "SELECT word, count(1) AS n\n",
    "FROM (\n",
    "    SELECT explode(split(text, ' ')) AS word\n",
    "    FROM threebythree\n",
    ")\n",
    "GROUP BY word\n",
    "\"\"\"\n",
    "spark.sql(q).show()"
   ]
  },
  {
   "cell_type": "code",
   "execution_count": null,
   "metadata": {},
   "outputs": [],
   "source": []
  },
  {
   "cell_type": "markdown",
   "metadata": {},
   "source": [
    "# Joining Tables\n",
    "\n",
    "Query classic and vintage car sales that were sold by US sales reps?\n",
    "Employees with job title \"Sales Rep\" who are assigned to an office in the US, and are the sales rep for customers of vintage and classic cars.\n"
   ]
  },
  {
   "cell_type": "markdown",
   "metadata": {},
   "source": [
    "## SQL"
   ]
  },
  {
   "cell_type": "code",
   "execution_count": 103,
   "metadata": {},
   "outputs": [
    {
     "name": "stdout",
     "output_type": "stream",
     "text": [
      "541\n"
     ]
    }
   ],
   "source": [
    "q = \"\"\"\n",
    "WITH us_sales_reps AS (\n",
    "    SELECT employeeNumber, lastName, firstName, city, postalCode\n",
    "    FROM employees e\n",
    "    JOIN offices o\n",
    "        ON e.officeCode = o.officeCode\n",
    "    WHERE e.jobTitle = 'Sales Rep' AND o.country = 'USA' \n",
    "),\n",
    "car_orders AS (\n",
    "    SELECT prod.productCode, prod.buyPrice, prod.MSRP, det.priceEach, det.quantityOrdered, or.customerNumber, or.shippedDate\n",
    "    FROM orders or\n",
    "    JOIN orderdetails det\n",
    "        ON or.orderNumber = det.orderNumber\n",
    "    JOIN products prod\n",
    "        ON det.productCode = prod.productCode\n",
    "    WHERE prod.productLine in ('Classic Cars', 'Vintage Cars') and or.status = 'Shipped'\n",
    ")\n",
    "SELECT sr.*, car.*\n",
    "FROM car_orders car\n",
    "JOIN customers cst\n",
    "    ON car.customerNumber = cst.customerNumber\n",
    "JOIN us_sales_reps sr\n",
    "    ON cst.salesRepEmployeeNumber = sr.employeeNumber\n",
    "\"\"\"\n",
    "print(spark.sql(q).count())\n",
    "# spark.sql(q).limit(10).toPandas()\n",
    "\n"
   ]
  },
  {
   "cell_type": "markdown",
   "metadata": {},
   "source": [
    "## Pandas"
   ]
  },
  {
   "cell_type": "code",
   "execution_count": 115,
   "metadata": {},
   "outputs": [
    {
     "name": "stdout",
     "output_type": "stream",
     "text": [
      "(541, 12)\n"
     ]
    }
   ],
   "source": [
    "df1 = pd.merge(employees_pdf, offices_pdf, on='officeCode')\n",
    "df2 = df1[ (df1.jobTitle == 'Sales Rep') & (df1.country == 'USA') ]\n",
    "us_sales_reps_pdf = df2[['employeeNumber', 'lastName', 'firstName', 'city']]\n",
    "\n",
    "df3 = pd.merge(\n",
    "        pd.merge(orders_pdf, orderdetails_pdf, on='orderNumber'),\n",
    "        products_pdf, on='productCode'\n",
    "      )\n",
    "df4 = df3[ df3.productLine.isin(['Classic Cars', 'Vintage Cars']) & (df3.status == 'Shipped') ]\n",
    "car_orders_pdf = df4[['productCode', 'buyPrice', 'MSRP', 'priceEach', 'quantityOrdered', 'customerNumber', 'shippedDate']]\n",
    "\n",
    "df5 = pd.merge(\n",
    "    us_sales_reps_pdf,\n",
    "    pd.merge(car_orders_pdf, customers_pdf[['customerNumber', 'salesRepEmployeeNumber']], on='customerNumber'),\n",
    "    left_on='employeeNumber', right_on='salesRepEmployeeNumber'\n",
    ")\n",
    "us_car_orders_pdf = df5[['employeeNumber', 'lastName', 'firstName', 'city', 'productCode',\n",
    "                         'productCode', 'buyPrice', 'MSRP', 'priceEach', 'quantityOrdered', 'customerNumber', 'shippedDate']]\n",
    "print(us_car_orders_pdf.shape)"
   ]
  },
  {
   "cell_type": "markdown",
   "metadata": {},
   "source": [
    "## Spark"
   ]
  },
  {
   "cell_type": "code",
   "execution_count": 126,
   "metadata": {},
   "outputs": [
    {
     "name": "stdout",
     "output_type": "stream",
     "text": [
      "541\n"
     ]
    }
   ],
   "source": [
    "us_sales_reps_df = employees_df \\\n",
    "                        .join(offices_df, 'officeCode') \\\n",
    "                        .where(\"\"\"jobTitle = 'Sales Rep' AND country = 'USA'\"\"\") \\\n",
    "                        .select('employeeNumber', 'lastName', 'firstName', 'city')\n",
    "\n",
    "car_orders_df = orderdetails_df \\\n",
    "                        .join(products_df, 'productCode') \\\n",
    "                        .where(\"productLine in ('Classic Cars', 'Vintage Cars')\") \\\n",
    "                        .join(orders_df, 'orderNumber') \\\n",
    "                        .where(\"status = 'Shipped'\") \\\n",
    "                        .select('productCode', 'buyPrice', 'MSRP', 'priceEach', 'quantityOrdered', 'customerNumber', 'shippedDate')\n",
    "\n",
    "us_car_orders_df = customers_df.select('customerNumber', 'salesRepEmployeeNumber') \\\n",
    "                        .join(us_sales_reps_df, us_sales_reps_df.employeeNumber == customers_df.salesRepEmployeeNumber) \\\n",
    "                        .join(car_orders_df, 'customerNumber')\n",
    "print(us_car_orders_df.count())"
   ]
  },
  {
   "cell_type": "code",
   "execution_count": null,
   "metadata": {},
   "outputs": [],
   "source": []
  },
  {
   "cell_type": "code",
   "execution_count": null,
   "metadata": {},
   "outputs": [],
   "source": []
  }
 ],
 "metadata": {
  "kernelspec": {
   "display_name": "Python 3",
   "language": "python",
   "name": "python3"
  },
  "language_info": {
   "codemirror_mode": {
    "name": "ipython",
    "version": 3
   },
   "file_extension": ".py",
   "mimetype": "text/x-python",
   "name": "python",
   "nbconvert_exporter": "python",
   "pygments_lexer": "ipython3",
   "version": "3.8.7"
  }
 },
 "nbformat": 4,
 "nbformat_minor": 4
}
