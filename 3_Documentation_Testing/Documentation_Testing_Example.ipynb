{
 "cells": [
  {
   "cell_type": "markdown",
   "metadata": {},
   "source": [
    "# Documentation and Testing"
   ]
  },
  {
   "cell_type": "markdown",
   "metadata": {},
   "source": [
    "## Example 1"
   ]
  },
  {
   "cell_type": "code",
   "execution_count": 7,
   "metadata": {},
   "outputs": [],
   "source": [
    "def remove_extremes(ls: list, key=None) -> list:\n",
    "    \"\"\"\n",
    "    Remove the extreme elements of a list, i.e. minimum and maximum\n",
    "    If list has less than three elements the original list will be returned\n",
    "    A function can be provided for custom order\n",
    "    \n",
    "    Parameter:\n",
    "        ls:  list of elements, elements need to be ordered\n",
    "        key: function to customize sort order\n",
    "        \n",
    "    Returns:\n",
    "        res: list of elements without the extremes\n",
    "    \"\"\"\n",
    "    if len(ls) < 3:\n",
    "        return sorted(ls, key=key)\n",
    "    ls_sorted = sorted(ls, key=key)\n",
    "    res = ls_sorted[1:-1]\n",
    "    return res›"
   ]
  },
  {
   "cell_type": "markdown",
   "metadata": {},
   "source": [
    "### Show documentation\n",
    "\n",
    "![](help_remove_extremes.png)"
   ]
  },
  {
   "cell_type": "code",
   "execution_count": 8,
   "metadata": {},
   "outputs": [
    {
     "name": "stdout",
     "output_type": "stream",
     "text": [
      "Help on function remove_extremes in module __main__:\n",
      "\n",
      "remove_extremes(ls: list, key=None) -> list\n",
      "    Remove the extreme elements of a list, i.e. minimum and maximum\n",
      "    If list has less than three elements the original list will be returned\n",
      "    A function can be provided for custom order\n",
      "    \n",
      "    Parameter:\n",
      "        ls:  list of elements, elements need to be ordered\n",
      "        key: function to customize sort order\n",
      "        \n",
      "    Returns:\n",
      "        res: list of elements without the extremes\n",
      "\n"
     ]
    }
   ],
   "source": [
    "help(remove_extremes)"
   ]
  },
  {
   "cell_type": "markdown",
   "metadata": {},
   "source": [
    "### Test\n",
    "\n",
    "Just use the `assert` statement"
   ]
  },
  {
   "cell_type": "code",
   "execution_count": 15,
   "metadata": {},
   "outputs": [],
   "source": [
    "x1 = [13, 345, 7, 89, 2, 0, 34, 103]\n",
    "x2 = [78, 67]\n",
    "x3 = ['Hello', 'Zoo', 'Zeppelin', 'Albert', 'Bravo', 'Gustave']\n",
    "x4 = ['zz', 'zzzzzz', 'z', 'zzz', 'zzzz']\n",
    "\n",
    "assert remove_extremes(x1) == [2, 7, 13, 34, 89, 103], 'Test 1: \"List of integers\" failed'\n",
    "assert remove_extremes(x2) == [67, 78], 'Test 2: \"Only two elements\" failed'\n",
    "assert remove_extremes(x3) == ['Bravo', 'Gustave', 'Hello', 'Zeppelin'], 'Test 3: \"List of strings\" failed'\n",
    "assert remove_extremes(x4, key=lambda s: len(s)) == ['zz', 'zzz', 'zzzz']\n",
    "# shorter version of Test 4\n",
    "assert remove_extremes(x4, key=len) == ['zz', 'zzz', 'zzzz']"
   ]
  },
  {
   "cell_type": "code",
   "execution_count": null,
   "metadata": {},
   "outputs": [],
   "source": []
  },
  {
   "cell_type": "code",
   "execution_count": null,
   "metadata": {},
   "outputs": [],
   "source": []
  },
  {
   "cell_type": "code",
   "execution_count": 18,
   "metadata": {},
   "outputs": [
    {
     "name": "stdout",
     "output_type": "stream",
     "text": [
      "100_BT_Records.csv      customers.csv           orders.csv\n",
      "100_CC_Records.csv      employees.csv           payments.csv\n",
      "100_Records.csv         mysqlsampledatabase.sql productlines.csv\n",
      "100_Sales_Records.csv   offices.csv             products.csv\n",
      "README.md               orderdetails.csv\n"
     ]
    }
   ],
   "source": [
    "! ls ../data\n"
   ]
  },
  {
   "cell_type": "code",
   "execution_count": 28,
   "metadata": {},
   "outputs": [
    {
     "name": "stdout",
     "output_type": "stream",
     "text": [
      "Number of records: 23\n"
     ]
    },
    {
     "data": {
      "text/plain": [
       "employeeNumber      int64\n",
       "lastName           object\n",
       "firstName          object\n",
       "extension          object\n",
       "email              object\n",
       "officeCode          int64\n",
       "reportsTo         float64\n",
       "jobTitle           object\n",
       "dtype: object"
      ]
     },
     "metadata": {},
     "output_type": "display_data"
    },
    {
     "data": {
      "text/html": [
       "<div>\n",
       "<style scoped>\n",
       "    .dataframe tbody tr th:only-of-type {\n",
       "        vertical-align: middle;\n",
       "    }\n",
       "\n",
       "    .dataframe tbody tr th {\n",
       "        vertical-align: top;\n",
       "    }\n",
       "\n",
       "    .dataframe thead th {\n",
       "        text-align: right;\n",
       "    }\n",
       "</style>\n",
       "<table border=\"1\" class=\"dataframe\">\n",
       "  <thead>\n",
       "    <tr style=\"text-align: right;\">\n",
       "      <th></th>\n",
       "      <th>employeeNumber</th>\n",
       "      <th>lastName</th>\n",
       "      <th>firstName</th>\n",
       "      <th>extension</th>\n",
       "      <th>email</th>\n",
       "      <th>officeCode</th>\n",
       "      <th>reportsTo</th>\n",
       "      <th>jobTitle</th>\n",
       "    </tr>\n",
       "  </thead>\n",
       "  <tbody>\n",
       "    <tr>\n",
       "      <th>0</th>\n",
       "      <td>1002</td>\n",
       "      <td>Murphy</td>\n",
       "      <td>Diane</td>\n",
       "      <td>x5800</td>\n",
       "      <td>dmurphy@classicmodelcars.com</td>\n",
       "      <td>1</td>\n",
       "      <td>NaN</td>\n",
       "      <td>President</td>\n",
       "    </tr>\n",
       "    <tr>\n",
       "      <th>1</th>\n",
       "      <td>1056</td>\n",
       "      <td>Patterson</td>\n",
       "      <td>Mary</td>\n",
       "      <td>x4611</td>\n",
       "      <td>mpatterso@classicmodelcars.com</td>\n",
       "      <td>1</td>\n",
       "      <td>1002.0</td>\n",
       "      <td>VP Sales</td>\n",
       "    </tr>\n",
       "    <tr>\n",
       "      <th>2</th>\n",
       "      <td>1076</td>\n",
       "      <td>Firrelli</td>\n",
       "      <td>Jeff</td>\n",
       "      <td>x9273</td>\n",
       "      <td>jfirrelli@classicmodelcars.com</td>\n",
       "      <td>1</td>\n",
       "      <td>1002.0</td>\n",
       "      <td>VP Marketing</td>\n",
       "    </tr>\n",
       "    <tr>\n",
       "      <th>3</th>\n",
       "      <td>1088</td>\n",
       "      <td>Patterson</td>\n",
       "      <td>William</td>\n",
       "      <td>x4871</td>\n",
       "      <td>wpatterson@classicmodelcars.com</td>\n",
       "      <td>6</td>\n",
       "      <td>1056.0</td>\n",
       "      <td>Sales Manager (APAC)</td>\n",
       "    </tr>\n",
       "    <tr>\n",
       "      <th>4</th>\n",
       "      <td>1102</td>\n",
       "      <td>Bondur</td>\n",
       "      <td>Gerard</td>\n",
       "      <td>x5408</td>\n",
       "      <td>gbondur@classicmodelcars.com</td>\n",
       "      <td>4</td>\n",
       "      <td>1056.0</td>\n",
       "      <td>Sale Manager (EMEA)</td>\n",
       "    </tr>\n",
       "  </tbody>\n",
       "</table>\n",
       "</div>"
      ],
      "text/plain": [
       "   employeeNumber   lastName firstName extension  \\\n",
       "0            1002     Murphy     Diane     x5800   \n",
       "1            1056  Patterson      Mary     x4611   \n",
       "2            1076   Firrelli      Jeff     x9273   \n",
       "3            1088  Patterson   William     x4871   \n",
       "4            1102     Bondur    Gerard     x5408   \n",
       "\n",
       "                             email  officeCode  reportsTo  \\\n",
       "0     dmurphy@classicmodelcars.com           1        NaN   \n",
       "1   mpatterso@classicmodelcars.com           1     1002.0   \n",
       "2   jfirrelli@classicmodelcars.com           1     1002.0   \n",
       "3  wpatterson@classicmodelcars.com           6     1056.0   \n",
       "4     gbondur@classicmodelcars.com           4     1056.0   \n",
       "\n",
       "               jobTitle  \n",
       "0             President  \n",
       "1              VP Sales  \n",
       "2          VP Marketing  \n",
       "3  Sales Manager (APAC)  \n",
       "4   Sale Manager (EMEA)  "
      ]
     },
     "metadata": {},
     "output_type": "display_data"
    }
   ],
   "source": [
    "import pandas as pd\n",
    "\n",
    "employees_df = pd.read_csv('../data/employees.csv')\n",
    "print(f\"Number of records: {employees_df.shape[0]:,}\")\n",
    "display(employees_df.dtypes)\n",
    "display(employees_df.head())"
   ]
  },
  {
   "cell_type": "code",
   "execution_count": 29,
   "metadata": {},
   "outputs": [
    {
     "name": "stdout",
     "output_type": "stream",
     "text": [
      "Number of records: 7\n"
     ]
    },
    {
     "data": {
      "text/plain": [
       "officeCode       int64\n",
       "city            object\n",
       "phone           object\n",
       "addressLine1    object\n",
       "addressLine2    object\n",
       "state           object\n",
       "country         object\n",
       "postalCode      object\n",
       "territory       object\n",
       "dtype: object"
      ]
     },
     "metadata": {},
     "output_type": "display_data"
    },
    {
     "data": {
      "text/html": [
       "<div>\n",
       "<style scoped>\n",
       "    .dataframe tbody tr th:only-of-type {\n",
       "        vertical-align: middle;\n",
       "    }\n",
       "\n",
       "    .dataframe tbody tr th {\n",
       "        vertical-align: top;\n",
       "    }\n",
       "\n",
       "    .dataframe thead th {\n",
       "        text-align: right;\n",
       "    }\n",
       "</style>\n",
       "<table border=\"1\" class=\"dataframe\">\n",
       "  <thead>\n",
       "    <tr style=\"text-align: right;\">\n",
       "      <th></th>\n",
       "      <th>officeCode</th>\n",
       "      <th>city</th>\n",
       "      <th>phone</th>\n",
       "      <th>addressLine1</th>\n",
       "      <th>addressLine2</th>\n",
       "      <th>state</th>\n",
       "      <th>country</th>\n",
       "      <th>postalCode</th>\n",
       "      <th>territory</th>\n",
       "    </tr>\n",
       "  </thead>\n",
       "  <tbody>\n",
       "    <tr>\n",
       "      <th>0</th>\n",
       "      <td>1</td>\n",
       "      <td>San Francisco</td>\n",
       "      <td>+1 650 219 4782</td>\n",
       "      <td>100 Market Street</td>\n",
       "      <td>Suite 300</td>\n",
       "      <td>CA</td>\n",
       "      <td>USA</td>\n",
       "      <td>94080</td>\n",
       "      <td>NaN</td>\n",
       "    </tr>\n",
       "    <tr>\n",
       "      <th>1</th>\n",
       "      <td>2</td>\n",
       "      <td>Boston</td>\n",
       "      <td>+1 215 837 0825</td>\n",
       "      <td>1550 Court Place</td>\n",
       "      <td>Suite 102</td>\n",
       "      <td>MA</td>\n",
       "      <td>USA</td>\n",
       "      <td>02107</td>\n",
       "      <td>NaN</td>\n",
       "    </tr>\n",
       "    <tr>\n",
       "      <th>2</th>\n",
       "      <td>3</td>\n",
       "      <td>NYC</td>\n",
       "      <td>+1 212 555 3000</td>\n",
       "      <td>523 East 53rd Street</td>\n",
       "      <td>apt. 5A</td>\n",
       "      <td>NY</td>\n",
       "      <td>USA</td>\n",
       "      <td>10022</td>\n",
       "      <td>NaN</td>\n",
       "    </tr>\n",
       "    <tr>\n",
       "      <th>3</th>\n",
       "      <td>4</td>\n",
       "      <td>Paris</td>\n",
       "      <td>+33 14 723 4404</td>\n",
       "      <td>43 Rue Jouffroy D'abbans</td>\n",
       "      <td>NaN</td>\n",
       "      <td>NaN</td>\n",
       "      <td>France</td>\n",
       "      <td>75017</td>\n",
       "      <td>EMEA</td>\n",
       "    </tr>\n",
       "    <tr>\n",
       "      <th>4</th>\n",
       "      <td>5</td>\n",
       "      <td>Tokyo</td>\n",
       "      <td>+81 33 224 5000</td>\n",
       "      <td>4-1 Kioicho</td>\n",
       "      <td>NaN</td>\n",
       "      <td>Chiyoda-Ku</td>\n",
       "      <td>Japan</td>\n",
       "      <td>102-8578</td>\n",
       "      <td>Japan</td>\n",
       "    </tr>\n",
       "  </tbody>\n",
       "</table>\n",
       "</div>"
      ],
      "text/plain": [
       "   officeCode           city            phone              addressLine1  \\\n",
       "0           1  San Francisco  +1 650 219 4782         100 Market Street   \n",
       "1           2         Boston  +1 215 837 0825          1550 Court Place   \n",
       "2           3            NYC  +1 212 555 3000      523 East 53rd Street   \n",
       "3           4          Paris  +33 14 723 4404  43 Rue Jouffroy D'abbans   \n",
       "4           5          Tokyo  +81 33 224 5000               4-1 Kioicho   \n",
       "\n",
       "  addressLine2       state country postalCode territory  \n",
       "0    Suite 300          CA     USA      94080       NaN  \n",
       "1    Suite 102          MA     USA      02107       NaN  \n",
       "2      apt. 5A          NY     USA      10022       NaN  \n",
       "3          NaN         NaN  France      75017      EMEA  \n",
       "4          NaN  Chiyoda-Ku   Japan   102-8578     Japan  "
      ]
     },
     "metadata": {},
     "output_type": "display_data"
    }
   ],
   "source": [
    "offices_df = pd.read_csv('../data/offices.csv')\n",
    "print(f\"Number of records: {offices_df.shape[0]:,}\")\n",
    "display(offices_df.dtypes)\n",
    "display(offices_df.head())"
   ]
  },
  {
   "cell_type": "markdown",
   "metadata": {},
   "source": [
    "Let's join the tables"
   ]
  },
  {
   "cell_type": "code",
   "execution_count": 31,
   "metadata": {},
   "outputs": [
    {
     "data": {
      "text/html": [
       "<div>\n",
       "<style scoped>\n",
       "    .dataframe tbody tr th:only-of-type {\n",
       "        vertical-align: middle;\n",
       "    }\n",
       "\n",
       "    .dataframe tbody tr th {\n",
       "        vertical-align: top;\n",
       "    }\n",
       "\n",
       "    .dataframe thead th {\n",
       "        text-align: right;\n",
       "    }\n",
       "</style>\n",
       "<table border=\"1\" class=\"dataframe\">\n",
       "  <thead>\n",
       "    <tr style=\"text-align: right;\">\n",
       "      <th></th>\n",
       "      <th>0</th>\n",
       "      <th>1</th>\n",
       "      <th>2</th>\n",
       "    </tr>\n",
       "  </thead>\n",
       "  <tbody>\n",
       "    <tr>\n",
       "      <th>employeeNumber</th>\n",
       "      <td>1002</td>\n",
       "      <td>1056</td>\n",
       "      <td>1076</td>\n",
       "    </tr>\n",
       "    <tr>\n",
       "      <th>lastName</th>\n",
       "      <td>Murphy</td>\n",
       "      <td>Patterson</td>\n",
       "      <td>Firrelli</td>\n",
       "    </tr>\n",
       "    <tr>\n",
       "      <th>firstName</th>\n",
       "      <td>Diane</td>\n",
       "      <td>Mary</td>\n",
       "      <td>Jeff</td>\n",
       "    </tr>\n",
       "    <tr>\n",
       "      <th>extension</th>\n",
       "      <td>x5800</td>\n",
       "      <td>x4611</td>\n",
       "      <td>x9273</td>\n",
       "    </tr>\n",
       "    <tr>\n",
       "      <th>email</th>\n",
       "      <td>dmurphy@classicmodelcars.com</td>\n",
       "      <td>mpatterso@classicmodelcars.com</td>\n",
       "      <td>jfirrelli@classicmodelcars.com</td>\n",
       "    </tr>\n",
       "    <tr>\n",
       "      <th>officeCode</th>\n",
       "      <td>1</td>\n",
       "      <td>1</td>\n",
       "      <td>1</td>\n",
       "    </tr>\n",
       "    <tr>\n",
       "      <th>reportsTo</th>\n",
       "      <td>NaN</td>\n",
       "      <td>1002</td>\n",
       "      <td>1002</td>\n",
       "    </tr>\n",
       "    <tr>\n",
       "      <th>jobTitle</th>\n",
       "      <td>President</td>\n",
       "      <td>VP Sales</td>\n",
       "      <td>VP Marketing</td>\n",
       "    </tr>\n",
       "    <tr>\n",
       "      <th>city</th>\n",
       "      <td>San Francisco</td>\n",
       "      <td>San Francisco</td>\n",
       "      <td>San Francisco</td>\n",
       "    </tr>\n",
       "    <tr>\n",
       "      <th>phone</th>\n",
       "      <td>+1 650 219 4782</td>\n",
       "      <td>+1 650 219 4782</td>\n",
       "      <td>+1 650 219 4782</td>\n",
       "    </tr>\n",
       "    <tr>\n",
       "      <th>addressLine1</th>\n",
       "      <td>100 Market Street</td>\n",
       "      <td>100 Market Street</td>\n",
       "      <td>100 Market Street</td>\n",
       "    </tr>\n",
       "    <tr>\n",
       "      <th>addressLine2</th>\n",
       "      <td>Suite 300</td>\n",
       "      <td>Suite 300</td>\n",
       "      <td>Suite 300</td>\n",
       "    </tr>\n",
       "    <tr>\n",
       "      <th>state</th>\n",
       "      <td>CA</td>\n",
       "      <td>CA</td>\n",
       "      <td>CA</td>\n",
       "    </tr>\n",
       "    <tr>\n",
       "      <th>country</th>\n",
       "      <td>USA</td>\n",
       "      <td>USA</td>\n",
       "      <td>USA</td>\n",
       "    </tr>\n",
       "    <tr>\n",
       "      <th>postalCode</th>\n",
       "      <td>94080</td>\n",
       "      <td>94080</td>\n",
       "      <td>94080</td>\n",
       "    </tr>\n",
       "    <tr>\n",
       "      <th>territory</th>\n",
       "      <td>NaN</td>\n",
       "      <td>NaN</td>\n",
       "      <td>NaN</td>\n",
       "    </tr>\n",
       "  </tbody>\n",
       "</table>\n",
       "</div>"
      ],
      "text/plain": [
       "                                           0                               1  \\\n",
       "employeeNumber                          1002                            1056   \n",
       "lastName                              Murphy                       Patterson   \n",
       "firstName                              Diane                            Mary   \n",
       "extension                              x5800                           x4611   \n",
       "email           dmurphy@classicmodelcars.com  mpatterso@classicmodelcars.com   \n",
       "officeCode                                 1                               1   \n",
       "reportsTo                                NaN                            1002   \n",
       "jobTitle                           President                        VP Sales   \n",
       "city                           San Francisco                   San Francisco   \n",
       "phone                        +1 650 219 4782                 +1 650 219 4782   \n",
       "addressLine1               100 Market Street               100 Market Street   \n",
       "addressLine2                       Suite 300                       Suite 300   \n",
       "state                                     CA                              CA   \n",
       "country                                  USA                             USA   \n",
       "postalCode                             94080                           94080   \n",
       "territory                                NaN                             NaN   \n",
       "\n",
       "                                             2  \n",
       "employeeNumber                            1076  \n",
       "lastName                              Firrelli  \n",
       "firstName                                 Jeff  \n",
       "extension                                x9273  \n",
       "email           jfirrelli@classicmodelcars.com  \n",
       "officeCode                                   1  \n",
       "reportsTo                                 1002  \n",
       "jobTitle                          VP Marketing  \n",
       "city                             San Francisco  \n",
       "phone                          +1 650 219 4782  \n",
       "addressLine1                 100 Market Street  \n",
       "addressLine2                         Suite 300  \n",
       "state                                       CA  \n",
       "country                                    USA  \n",
       "postalCode                               94080  \n",
       "territory                                  NaN  "
      ]
     },
     "execution_count": 31,
     "metadata": {},
     "output_type": "execute_result"
    }
   ],
   "source": [
    "joined_df = employees_df.join(offices_df.set_index('officeCode'), on='officeCode')\n",
    "joined_df.head(3).T"
   ]
  },
  {
   "cell_type": "markdown",
   "metadata": {},
   "source": [
    "Let's assume every employee is assigned to exactly one office. When we join the tables `employees_df` and `offices_df` we should still have the same number of rows."
   ]
  },
  {
   "cell_type": "code",
   "execution_count": 32,
   "metadata": {},
   "outputs": [],
   "source": [
    "assert employees_df.shape[0] == joined_df.shape[0], \"Mismatched number of rows\""
   ]
  },
  {
   "cell_type": "code",
   "execution_count": 33,
   "metadata": {},
   "outputs": [
    {
     "name": "stdout",
     "output_type": "stream",
     "text": [
      "employeeNumber      int64\n",
      "lastName           object\n",
      "firstName          object\n",
      "extension          object\n",
      "email              object\n",
      "officeCode          int64\n",
      "reportsTo         float64\n",
      "jobTitle           object\n",
      "dtype: object\n"
     ]
    }
   ],
   "source": [
    "print(employees_df.dtypes)"
   ]
  },
  {
   "cell_type": "code",
   "execution_count": null,
   "metadata": {},
   "outputs": [],
   "source": []
  },
  {
   "cell_type": "code",
   "execution_count": null,
   "metadata": {},
   "outputs": [],
   "source": []
  }
 ],
 "metadata": {
  "kernelspec": {
   "display_name": "Python 3",
   "language": "python",
   "name": "python3"
  },
  "language_info": {
   "codemirror_mode": {
    "name": "ipython",
    "version": 3
   },
   "file_extension": ".py",
   "mimetype": "text/x-python",
   "name": "python",
   "nbconvert_exporter": "python",
   "pygments_lexer": "ipython3",
   "version": "3.8.7"
  }
 },
 "nbformat": 4,
 "nbformat_minor": 4
}
